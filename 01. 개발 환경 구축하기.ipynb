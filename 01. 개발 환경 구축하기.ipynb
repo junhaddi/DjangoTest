{
 "cells": [
  {
   "cell_type": "markdown",
   "metadata": {},
   "source": [
    "# 01. 개발 환경 구축하기\n",
    "\n",
    "<br>\n",
    "<br>\n",
    "\n",
    "## 1. 파이썬 설치하기\n",
    "\n",
    "<br>\n",
    "\n",
    "## 2. Visual Studio Code 설치하기\n",
    "\n",
    "<br>\n",
    "\n",
    "## 3. 가상환경 설치하기\n",
    "\n",
    "- pip install virtualenv\n",
    "- pip3 install virtualenv\n",
    "\n",
    "### 1) virtualenv란?\n",
    "\n",
    "- 프로젝트별로 독립된 가상 환경을 만들어주는 툴\n",
    "- 인터넷에서 다운로드한 파이썬 라이브러리(패키지)가 충돌을 일으키는 것을 방지\n",
    "- 외부의 라이브러리는 서로 의존성을 갖고 있어 버전이 맞지 않는 경우 오작동 방지\n",
    "\n",
    "### 2) 가상 환경 구축하기\n",
    "\n",
    "- virtualenv myvenv\n",
    "\n",
    "### 3) 가상 환경 활성화하기\n",
    "\n",
    "- myvenv/bin/activate\n",
    "- source myvenv/bin/activate\n",
    "\n",
    "### 4) 가상 환경 비활성화하기\n",
    "\n",
    "- deactivate\n",
    "\n",
    "<br>\n",
    "\n",
    "## 4. Django 설치하기\n",
    "\n",
    "- pip install django \"django==2.1.1\"\n",
    "- pip3 install django \"django==2.1.1\"\n",
    "\n",
    "### 1) 버전 확인하기\n",
    "\n",
    "- django-admin --version\n",
    "\n",
    "### 2) InsecurePlatformWarning 해결하기\n",
    "\n",
    "- pip install pyopenssl ndg-httpsclient pyasn1\n",
    "- pip3 install pyopenssl ndg-httpsclient pyasn1"
   ]
  },
  {
   "cell_type": "code",
   "execution_count": null,
   "metadata": {},
   "outputs": [],
   "source": []
  }
 ],
 "metadata": {
  "kernelspec": {
   "display_name": "Python 3",
   "language": "python",
   "name": "python3"
  },
  "language_info": {
   "codemirror_mode": {
    "name": "ipython",
    "version": 3
   },
   "file_extension": ".py",
   "mimetype": "text/x-python",
   "name": "python",
   "nbconvert_exporter": "python",
   "pygments_lexer": "ipython3",
   "version": "3.7.1"
  }
 },
 "nbformat": 4,
 "nbformat_minor": 2
}
