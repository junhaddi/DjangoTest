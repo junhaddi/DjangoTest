{
 "cells": [
  {
   "cell_type": "markdown",
   "metadata": {},
   "source": [
    "# 02. 프로젝트 만들기\n",
    "\n",
    "<br>\n",
    "<br>\n",
    "\n",
    "## 1. 프로젝트 만들기\n",
    "\n",
    "### 1) 프로젝트 생성하기\n",
    "\n",
    "- django-admin startproject mysite\n",
    "- 프로젝트 구조에 해당하는 디렉터리, 파일 등 자동 생성\n",
    "- mysite 디렉터리가 최상위와 그 하위, 두 곳에 생김.\n",
    "- 상위 mysite 디렉터리 : 프로젝트 관련 디렉터리/파일을 모으는 역할. 이름 변경 가능\n",
    "- 하위 mysite 디렉터리 : 프로젝트 디렉터리\n",
    "\n",
    "### 2) 상위 디렉터리 이름 변경하기\n",
    "\n",
    "- mv mysite ch2\n",
    "\n",
    "### 3) settings.py\n",
    "\n",
    "- 프로젝트 설정 파일\n",
    "- 처음 프로젝트 생성 시 장고가 기본 사항들을 자동으로 등록함.\n",
    "- 추가적으로 필요한 사항은 개발자가 등록함.\n",
    "\n",
    "### 4) 디렉터리 이동하기\n",
    "\n",
    "- cd ch2\n",
    "\n",
    "### 5) 기본 테이블 생성하기\n",
    "\n",
    "- Model을 DB에 반영\n",
    "- 사용자 및 권한 그룹 테이블 생성\n",
    "- db.sqlite3 파일 생성\n",
    "- python manage.py migrate\n",
    "- python3 manage.py migrate\n",
    "\n",
    "### 6) 애플리케이션 생성하기\n",
    "\n",
    "- django-admin startapp board\n",
    "- python manage.py startapp board\n",
    "- python3 manage.py startapp board\n",
    "- 장고 프로젝트는 여러 개의 앱을 가짐.\n",
    "- board 디렉터리 생성\n",
    "- 모든 앱 개발에 반드시 필요한 파일들을 장고가 알아서 생성\n",
    "- 개발자는 해당 내용을 채워넣기만 하면 됨.\n",
    "- 모델은 models.py 파일에, 템플릿은 templates 디렉터리 하위의 *.html 파일에, 뷰는 views.py 파일에 작성\n",
    "- apps.py 파일은 애플리케이션의 설정 클래스를 정의하는 파일\n",
    "\n",
    "### 7) 애플리케이션 등록하기\n",
    "\n",
    "- 프로젝트에 포함되는 개발자가 개발하는 애플리케이션은 모두 설정 파일에 등록해야 함."
   ]
  },
  {
   "cell_type": "code",
   "execution_count": null,
   "metadata": {},
   "outputs": [],
   "source": [
    "INSTALLED_APPS = [\n",
    "    #생략\n",
    "    'board',\n",
    "]"
   ]
  },
  {
   "cell_type": "markdown",
   "metadata": {},
   "source": [
    "\n",
    "<br>\n",
    "\n",
    "## 2. 주요 사항\n",
    "\n",
    "### 1) models.py 주요 사항\n",
    "\n",
    "- 테이블을 정의하는 파일\n",
    "- ORM(Object Relation Mapping)기법을 사용한다.\n",
    "- 테이블을 클래스로 매핑하여 클랙스 객체에 대해 CRUD(Create, Read, Update, Delete)기능을 수행하고 이를 데이터베이스에 반영하는 방식\n",
    "- 테이블을 하나의 클래스로 정의한다.\n",
    "- 테이블의 열은 클래스의 변수(속성)로 매핑한다.\n",
    "- 테이블 클래스는 django.db.models.Model 클래스를 상속받아 정의한다.\n",
    "- 각 클래스 변수의 타입은 장고에서 미리 정해놓은 필드 클래스를 사용한다.\n",
    "- models.py에 변경 사항이 발생하면 이를 데이터베이스에 실제로 반영하기 위한 migrations 작업 필요\n",
    "- 각 애플리케이션 디렉터리 별로 migrations 디렉터리 하위에 마이그레이션 파일 존재\n",
    "\n",
    "### 2) URLconf 주요 사항\n",
    "\n",
    "### 3) views.py 주요 사항\n",
    "\n",
    "### 4) templates 주요 사항\n",
    "\n",
    "### 5) Admin 사이트\n",
    "\n",
    "### 6) 개발용 웹 서버 - runserver"
   ]
  },
  {
   "cell_type": "code",
   "execution_count": null,
   "metadata": {},
   "outputs": [],
   "source": []
  }
 ],
 "metadata": {
  "kernelspec": {
   "display_name": "Python 3",
   "language": "python",
   "name": "python3"
  },
  "language_info": {
   "codemirror_mode": {
    "name": "ipython",
    "version": 3
   },
   "file_extension": ".py",
   "mimetype": "text/x-python",
   "name": "python",
   "nbconvert_exporter": "python",
   "pygments_lexer": "ipython3",
   "version": "3.7.1"
  }
 },
 "nbformat": 4,
 "nbformat_minor": 2
}
